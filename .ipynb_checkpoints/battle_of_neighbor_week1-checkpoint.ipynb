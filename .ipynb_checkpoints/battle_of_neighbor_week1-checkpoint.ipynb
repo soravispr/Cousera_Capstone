{
 "cells": [
  {
   "cell_type": "markdown",
   "metadata": {},
   "source": [
    "# Bangkok Tourists Recommender System"
   ]
  },
  {
   "cell_type": "markdown",
   "metadata": {},
   "source": [
    "## 1. INTRODUCTION"
   ]
  },
  {
   "cell_type": "markdown",
   "metadata": {},
   "source": [
    "Bangkok is one of the world's most visited countries. The city is considerably famous among tourists from every corner of the world. There are large number of tourists that have frequently been to Bangkok and visited alomost every of its neighborhoods. While another number of tourists also desire to explore this amazing experience, but they don't get any idea about where to visit and what to do in Bangkok.\n",
    "\n",
    "The purpose of this project is to help those new tourists in exploring the venues, activities and facilities around the city. Since each area has different tone and characteristic, it will help people making smart and efficient decisions on visiting some great neighborhoods matching their interests and lifestyle out of the numbers of other neighborhoods in Bangkok.\n",
    "\n",
    "This project aims to make an analysis and categorize the neighborhoods (districts) in Bangkok. The neighborhoods sharing some common groups of venues and places will be defined.\n"
   ]
  },
  {
   "cell_type": "markdown",
   "metadata": {},
   "source": [
    "## 2. DATA"
   ]
  },
  {
   "cell_type": "markdown",
   "metadata": {},
   "source": [
    "The dataset will be scraped from https://en.wikipedia.org/wiki/List_of_districts_of_Bangkok. The dataset will consist of the names of the districts and their coordinates (latitudes and longitudes). Then, the Foursquare API will be used to search for the venues in each district. Information retrieved from the API will be a list of venue's names and their category around the given radius of the input latitude and longitude. For this project, the searching radius will be chosen as 1,000 meters since each area is quite large."
   ]
  },
  {
   "cell_type": "code",
   "execution_count": null,
   "metadata": {},
   "outputs": [],
   "source": []
  }
 ],
 "metadata": {
  "kernelspec": {
   "display_name": "Python 3",
   "language": "python",
   "name": "python3"
  },
  "language_info": {
   "codemirror_mode": {
    "name": "ipython",
    "version": 3
   },
   "file_extension": ".py",
   "mimetype": "text/x-python",
   "name": "python",
   "nbconvert_exporter": "python",
   "pygments_lexer": "ipython3",
   "version": "3.7.9"
  }
 },
 "nbformat": 4,
 "nbformat_minor": 4
}
